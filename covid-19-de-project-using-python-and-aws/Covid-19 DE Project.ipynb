{
 "cells": [
  {
   "cell_type": "code",
   "execution_count": 36,
   "id": "cc79f8c4",
   "metadata": {},
   "outputs": [],
   "source": [
    "import boto3\n",
    "import pandas as pd\n",
    "from io import StringIO "
   ]
  },
  {
   "cell_type": "code",
   "execution_count": 37,
   "id": "295601ba",
   "metadata": {},
   "outputs": [],
   "source": [
    "AWS_ACCESS_KEY = \"##############\"\n",
    "AWS_SECRET_KEY = \"###########################\"\n",
    "AWS_REGION = \"eu-north-1\"\n",
    "SCHEMA_NAME = \"covid-19\"\n",
    "S3_STAGING_DIR = \"s3://ayomikun-test-bucket/output/\"\n",
    "S3_BUCKET_NAME = \"ayomikun-test-bucket\"\n",
    "S3_OUTPUT_DIRECTORY = \"output\""
   ]
  },
  {
   "cell_type": "code",
   "execution_count": 38,
   "id": "d386a035",
   "metadata": {},
   "outputs": [],
   "source": [
    "athena_client = boto3.client(\n",
    "    \"athena\",\n",
    "    aws_access_key_id=AWS_ACCESS_KEY,\n",
    "    aws_secret_access_key=AWS_SECRET_KEY,\n",
    "    region_name=AWS_REGION,\n",
    ")"
   ]
  },
  {
   "cell_type": "code",
   "execution_count": 39,
   "id": "b7ecc143",
   "metadata": {},
   "outputs": [],
   "source": [
    "Dict = {}\n",
    "def download_and_load_query_results(\n",
    "    client: boto3.client, query_response: Dict\n",
    ") -> pd.DataFrame:\n",
    "    while True:\n",
    "        try:\n",
    "            #This function loads the first 1000 rows\n",
    "            client.get_query_results(\n",
    "                QueryExecutionId=query_response[\"QueryExecutionId\"]\n",
    "            )\n",
    "            break\n",
    "        except Exception as err:\n",
    "            if \"not yet finished\" in str(err):\n",
    "                time.sleep(0.001)\n",
    "            else:\n",
    "                raise err\n",
    "        temp_file_location: str = \"athena_query_results.csv\"\n",
    "        s3_client = boto3.client(\n",
    "            \"s3\",\n",
    "            aws_access_key_id=AWS_ACCESS_KEY,\n",
    "            aws_secret_access_key=AWS_SECRET_KEY,\n",
    "            region_name=AWS_REGION,\n",
    "        )\n",
    "        s3_client.download_file(\n",
    "            S3_BUCKET_NAME,\n",
    "            f\"{S3_OUTPUT_DIRECTORY}/{query_response['QueryExecutionId']}.csv\",\n",
    "            temp_file_location,\n",
    "        )\n",
    "        return pd.read_csv(temp_file_location)"
   ]
  },
  {
   "cell_type": "code",
   "execution_count": 40,
   "id": "e6e97163",
   "metadata": {},
   "outputs": [],
   "source": [
    "response = athena_client.start_query_execution(\n",
    "    QueryString=\"SELECT * FROM enigma_jhu_csv\",\n",
    "    QueryExecutionContext={\"Database\": SCHEMA_NAME},\n",
    "    ResultConfiguration={\n",
    "        \"OutputLocation\": S3_STAGING_DIR,\n",
    "        \"EncryptionConfiguration\": {\"EncryptionOption\": \"SSE_S3\"},\n",
    "    },\n",
    ")"
   ]
  },
  {
   "cell_type": "code",
   "execution_count": 41,
   "id": "1905055d",
   "metadata": {},
   "outputs": [
    {
     "data": {
      "text/plain": [
       "{'QueryExecutionId': '2ec9663d-5ea0-48b8-be55-0428c1f56213',\n",
       " 'ResponseMetadata': {'RequestId': '25d396e9-4d9e-457b-adae-99b14e9da19c',\n",
       "  'HTTPStatusCode': 200,\n",
       "  'HTTPHeaders': {'date': 'Wed, 10 Apr 2024 03:07:18 GMT',\n",
       "   'content-type': 'application/x-amz-json-1.1',\n",
       "   'content-length': '59',\n",
       "   'connection': 'keep-alive',\n",
       "   'x-amzn-requestid': '25d396e9-4d9e-457b-adae-99b14e9da19c'},\n",
       "  'RetryAttempts': 0}}"
      ]
     },
     "execution_count": 41,
     "metadata": {},
     "output_type": "execute_result"
    }
   ],
   "source": [
    "response"
   ]
  },
  {
   "cell_type": "code",
   "execution_count": 58,
   "id": "e6d36da8",
   "metadata": {},
   "outputs": [],
   "source": [
    "enigma_jhu_csv = download_and_load_query_results(athena_client, response)"
   ]
  },
  {
   "cell_type": "code",
   "execution_count": 59,
   "id": "e4d54302",
   "metadata": {},
   "outputs": [
    {
     "name": "stdout",
     "output_type": "stream",
     "text": [
      "   fips admin2 province_state country_region          last_update  latitude  \\\n",
      "0  <NA>                 Anhui          China  2020-01-22T17:00:00    31.826   \n",
      "1  <NA>               Beijing          China  2020-01-22T17:00:00    40.182   \n",
      "2  <NA>             Chongqing          China  2020-01-22T17:00:00    30.057   \n",
      "3  <NA>                Fujian          China  2020-01-22T17:00:00    26.079   \n",
      "4  <NA>                 Gansu          China  2020-01-22T17:00:00    36.061   \n",
      "\n",
      "   longitude  confirmed  deaths  recovered active combined_key  \n",
      "0    117.226          1    <NA>       <NA>              \"Anhui  \n",
      "1    116.414         14    <NA>       <NA>            \"Beijing  \n",
      "2    107.874          6    <NA>       <NA>          \"Chongqing  \n",
      "3    117.987          1    <NA>       <NA>             \"Fujian  \n",
      "4    103.834       <NA>    <NA>       <NA>              \"Gansu  \n"
     ]
    }
   ],
   "source": [
    "import awswrangler as wr\n",
    "\n",
    "# Use the provided S3 output path for storing Athena query results\n",
    "s3_output = \"s3://ayomikun-test-bucket/output/\"\n",
    "\n",
    "# Execute the query and read results into a pandas DataFrame using the provided S3 output path\n",
    "df = wr.athena.read_sql_query(\n",
    "    sql=\"SELECT * FROM enigma_jhu_csv\",\n",
    "    database=\"covid-19\",\n",
    "    s3_output=s3_output  # Use the provided S3 output path\n",
    ")\n",
    "\n",
    "# Display the first few rows of the DataFrame\n",
    "print(df.head())\n"
   ]
  },
  {
   "cell_type": "code",
   "execution_count": null,
   "id": "5b138da3",
   "metadata": {},
   "outputs": [],
   "source": []
  },
  {
   "cell_type": "code",
   "execution_count": 44,
   "id": "42af77aa",
   "metadata": {},
   "outputs": [],
   "source": [
    "response = athena_client.start_query_execution(\n",
    "    QueryString=\"SELECT * FROM nytimes_data_in_usa_us_county\",\n",
    "    QueryExecutionContext={\"Database\": SCHEMA_NAME},\n",
    "    ResultConfiguration={\n",
    "        \"OutputLocation\": S3_STAGING_DIR,\n",
    "        \"EncryptionConfiguration\": {\"EncryptionOption\": \"SSE_S3\"},\n",
    "    },\n",
    ")\n"
   ]
  },
  {
   "cell_type": "code",
   "execution_count": 45,
   "id": "75f20168",
   "metadata": {},
   "outputs": [
    {
     "data": {
      "text/plain": [
       "{'QueryExecutionId': 'a2677c31-1e05-4f7c-b484-e02a399b54a9',\n",
       " 'ResponseMetadata': {'RequestId': '81815938-3746-4c23-8b3e-84198216fa20',\n",
       "  'HTTPStatusCode': 200,\n",
       "  'HTTPHeaders': {'date': 'Wed, 10 Apr 2024 03:07:48 GMT',\n",
       "   'content-type': 'application/x-amz-json-1.1',\n",
       "   'content-length': '59',\n",
       "   'connection': 'keep-alive',\n",
       "   'x-amzn-requestid': '81815938-3746-4c23-8b3e-84198216fa20'},\n",
       "  'RetryAttempts': 0}}"
      ]
     },
     "execution_count": 45,
     "metadata": {},
     "output_type": "execute_result"
    }
   ],
   "source": [
    "response"
   ]
  },
  {
   "cell_type": "code",
   "execution_count": 50,
   "id": "64a7130c",
   "metadata": {},
   "outputs": [],
   "source": [
    "nytimes_data_in_usa_us_county = download_and_load_query_results(athena_client, response)"
   ]
  },
  {
   "cell_type": "code",
   "execution_count": 53,
   "id": "5d7e454d",
   "metadata": {},
   "outputs": [
    {
     "name": "stdout",
     "output_type": "stream",
     "text": [
      "Collecting awswrangler\n",
      "  Downloading awswrangler-3.7.2-py3-none-any.whl (380 kB)\n",
      "     ------------------------------------ 380.1/380.1 kB 493.1 kB/s eta 0:00:00\n",
      "Requirement already satisfied: boto3<2.0.0,>=1.20.32 in c:\\users\\stvic\\anaconda3\\lib\\site-packages (from awswrangler) (1.34.81)\n",
      "Requirement already satisfied: botocore<2.0.0,>=1.23.32 in c:\\users\\stvic\\anaconda3\\lib\\site-packages (from awswrangler) (1.34.81)\n",
      "Requirement already satisfied: pyarrow>=8.0.0 in c:\\users\\stvic\\anaconda3\\lib\\site-packages (from awswrangler) (15.0.0)\n",
      "Requirement already satisfied: packaging<25.0,>=21.1 in c:\\users\\stvic\\anaconda3\\lib\\site-packages (from awswrangler) (22.0)\n",
      "Requirement already satisfied: numpy<2.0,>=1.18 in c:\\users\\stvic\\anaconda3\\lib\\site-packages (from awswrangler) (1.23.5)\n",
      "Requirement already satisfied: pandas<3.0.0,>=1.2.0 in c:\\users\\stvic\\anaconda3\\lib\\site-packages (from awswrangler) (1.5.3)\n",
      "Requirement already satisfied: typing-extensions<5.0.0,>=4.4.0 in c:\\users\\stvic\\anaconda3\\lib\\site-packages (from awswrangler) (4.4.0)\n",
      "Requirement already satisfied: jmespath<2.0.0,>=0.7.1 in c:\\users\\stvic\\anaconda3\\lib\\site-packages (from boto3<2.0.0,>=1.20.32->awswrangler) (0.10.0)\n",
      "Requirement already satisfied: s3transfer<0.11.0,>=0.10.0 in c:\\users\\stvic\\anaconda3\\lib\\site-packages (from boto3<2.0.0,>=1.20.32->awswrangler) (0.10.1)\n",
      "Requirement already satisfied: urllib3!=2.2.0,<3,>=1.25.4 in c:\\users\\stvic\\anaconda3\\lib\\site-packages (from botocore<2.0.0,>=1.23.32->awswrangler) (1.26.14)\n",
      "Requirement already satisfied: python-dateutil<3.0.0,>=2.1 in c:\\users\\stvic\\anaconda3\\lib\\site-packages (from botocore<2.0.0,>=1.23.32->awswrangler) (2.8.2)\n",
      "Requirement already satisfied: pytz>=2020.1 in c:\\users\\stvic\\anaconda3\\lib\\site-packages (from pandas<3.0.0,>=1.2.0->awswrangler) (2022.7)\n",
      "Requirement already satisfied: six>=1.5 in c:\\users\\stvic\\anaconda3\\lib\\site-packages (from python-dateutil<3.0.0,>=2.1->botocore<2.0.0,>=1.23.32->awswrangler) (1.16.0)\n",
      "Installing collected packages: awswrangler\n",
      "Successfully installed awswrangler-3.7.2\n"
     ]
    }
   ],
   "source": [
    "!pip install awswrangler\n"
   ]
  },
  {
   "cell_type": "code",
   "execution_count": 57,
   "id": "aad97224",
   "metadata": {},
   "outputs": [
    {
     "name": "stdout",
     "output_type": "stream",
     "text": [
      "         date     county       state   fips  cases  deaths\n",
      "0  2020-01-21  Snohomish  Washington  53061      1       0\n",
      "1  2020-01-22  Snohomish  Washington  53061      1       0\n",
      "2  2020-01-23  Snohomish  Washington  53061      1       0\n",
      "3  2020-01-24       Cook    Illinois  17031      1       0\n",
      "4  2020-01-24  Snohomish  Washington  53061      1       0\n"
     ]
    }
   ],
   "source": [
    "import awswrangler as wr\n",
    "\n",
    "# Use the provided S3 output path for storing Athena query results\n",
    "s3_output = \"s3://ayomikun-test-bucket/output/\"\n",
    "\n",
    "# Execute the query and read results into a pandas DataFrame using the provided S3 output path\n",
    "df = wr.athena.read_sql_query(\n",
    "    sql=\"SELECT * FROM nytimes_data_in_usa_us_county\",\n",
    "    database=\"covid-19\",\n",
    "    s3_output=s3_output  # Use the provided S3 output path\n",
    ")\n",
    "\n",
    "# Display the first few rows of the DataFrame\n",
    "print(df.head())\n"
   ]
  },
  {
   "cell_type": "code",
   "execution_count": null,
   "id": "a46830d5",
   "metadata": {},
   "outputs": [],
   "source": []
  },
  {
   "cell_type": "code",
   "execution_count": 61,
   "id": "c8424990",
   "metadata": {},
   "outputs": [],
   "source": [
    "response = athena_client.start_query_execution(\n",
    "    QueryString=\"SELECT * FROM nytimes_data_in_usa_us_states\",\n",
    "    QueryExecutionContext={\"Database\": SCHEMA_NAME},\n",
    "    ResultConfiguration={\n",
    "        \"OutputLocation\": S3_STAGING_DIR,\n",
    "        \"EncryptionConfiguration\": {\"EncryptionOption\": \"SSE_S3\"},\n",
    "    },\n",
    ")\n"
   ]
  },
  {
   "cell_type": "code",
   "execution_count": 62,
   "id": "0ab1b614",
   "metadata": {},
   "outputs": [
    {
     "data": {
      "text/plain": [
       "{'QueryExecutionId': '54216b09-ce97-4c42-a8b6-f89662a50dc1',\n",
       " 'ResponseMetadata': {'RequestId': 'cbdc1820-9c21-4379-ae86-c84392849514',\n",
       "  'HTTPStatusCode': 200,\n",
       "  'HTTPHeaders': {'date': 'Wed, 10 Apr 2024 11:21:27 GMT',\n",
       "   'content-type': 'application/x-amz-json-1.1',\n",
       "   'content-length': '59',\n",
       "   'connection': 'keep-alive',\n",
       "   'x-amzn-requestid': 'cbdc1820-9c21-4379-ae86-c84392849514'},\n",
       "  'RetryAttempts': 0}}"
      ]
     },
     "execution_count": 62,
     "metadata": {},
     "output_type": "execute_result"
    }
   ],
   "source": [
    "response"
   ]
  },
  {
   "cell_type": "code",
   "execution_count": 63,
   "id": "1323f352",
   "metadata": {},
   "outputs": [],
   "source": [
    "nytimes_data_in_usa_us_states = download_and_load_query_results(athena_client, response)"
   ]
  },
  {
   "cell_type": "code",
   "execution_count": 75,
   "id": "293706fe",
   "metadata": {},
   "outputs": [
    {
     "name": "stdout",
     "output_type": "stream",
     "text": [
      "         date       state  fips  cases  deaths\n",
      "0  2020-01-21  Washington    53      1       0\n",
      "1  2020-01-22  Washington    53      1       0\n",
      "2  2020-01-23  Washington    53      1       0\n",
      "3  2020-01-24    Illinois    17      1       0\n",
      "4  2020-01-24  Washington    53      1       0\n"
     ]
    }
   ],
   "source": [
    "s3_output = \"s3://ayomikun-test-bucket/output/\"\n",
    "\n",
    "# Execute the query and read results into a pandas DataFrame using the provided S3 output path\n",
    "df = wr.athena.read_sql_query(\n",
    "    sql=\"SELECT * FROM nytimes_data_in_usa_us_states\",\n",
    "    database=\"covid-19\",\n",
    "    s3_output=s3_output  # Use the provided S3 output path\n",
    ")\n",
    "\n",
    "# Display the first few rows of the DataFrame\n",
    "print(df.head())"
   ]
  },
  {
   "cell_type": "code",
   "execution_count": null,
   "id": "9ac8c39d",
   "metadata": {},
   "outputs": [],
   "source": []
  },
  {
   "cell_type": "code",
   "execution_count": 77,
   "id": "6701d30f",
   "metadata": {},
   "outputs": [],
   "source": [
    "response = athena_client.start_query_execution(\n",
    "    QueryString=\"SELECT * FROM rearc_covid_19_testing_data_states_dailystates_daily\",\n",
    "    QueryExecutionContext={\"Database\": SCHEMA_NAME},\n",
    "    ResultConfiguration={\n",
    "        \"OutputLocation\": S3_STAGING_DIR,\n",
    "        \"EncryptionConfiguration\": {\"EncryptionOption\": \"SSE_S3\"},\n",
    "    },\n",
    ")\n"
   ]
  },
  {
   "cell_type": "raw",
   "id": "390b9f3b",
   "metadata": {},
   "source": [
    "response"
   ]
  },
  {
   "cell_type": "code",
   "execution_count": 78,
   "id": "e91e8bd1",
   "metadata": {},
   "outputs": [],
   "source": [
    "rearc_covid_19_testing_data_states_dailystates_daily = download_and_load_query_results(athena_client, response)"
   ]
  },
  {
   "cell_type": "code",
   "execution_count": 79,
   "id": "f2da5e84",
   "metadata": {},
   "outputs": [
    {
     "name": "stdout",
     "output_type": "stream",
     "text": [
      "       date state  positive  probablecases  negative  pending  \\\n",
      "0  20210307    AK     56886           <NA>      <NA>     <NA>   \n",
      "1  20210307    AL    499819         107742   1931711     <NA>   \n",
      "2  20210307    AR    324818          69092   2480716     <NA>   \n",
      "3  20210307    AS         0           <NA>      2140     <NA>   \n",
      "4  20210307    AZ    826454          56519   3073010     <NA>   \n",
      "\n",
      "  totaltestresultssource  totaltestresults  hospitalizedcurrently  \\\n",
      "0        totalTestsViral           1731628                     33   \n",
      "1  totalTestsPeopleViral           2323788                    494   \n",
      "2        totalTestsViral           2736442                    335   \n",
      "3        totalTestsViral              2140                   <NA>   \n",
      "4        totalTestsViral           7908105                    963   \n",
      "\n",
      "   hospitalizedcumulative  ...  dataqualitygrade  deathincrease  \\\n",
      "0                    1293  ...                                0   \n",
      "1                   45976  ...                               -1   \n",
      "2                   14926  ...                               22   \n",
      "3                    <NA>  ...                                0   \n",
      "4                   57907  ...                                5   \n",
      "\n",
      "   hospitalizedincrease                                      hash  \\\n",
      "0                     0  dc4bccd4bb885349d7e94d6fed058e285d4be164   \n",
      "1                     0  997207b430824ea40b8eb8506c19a93e07bc972e   \n",
      "2                    11  50921aeefba3e30d31623aa495b47fb2ecc72fae   \n",
      "3                     0  96d23f888c995b9a7f3b4b864de6414f45c728ff   \n",
      "4                    44  0437a7a96f4471666f775e63e86923eb5cbd8cdf   \n",
      "\n",
      "   commercialscore negativeregularscore negativescore positivescore  score  \\\n",
      "0                0                    0             0             0      0   \n",
      "1                0                    0             0             0      0   \n",
      "2                0                    0             0             0      0   \n",
      "3                0                    0             0             0      0   \n",
      "4                0                    0             0             0      0   \n",
      "\n",
      "   grade  \n",
      "0         \n",
      "1         \n",
      "2         \n",
      "3         \n",
      "4         \n",
      "\n",
      "[5 rows x 56 columns]\n"
     ]
    }
   ],
   "source": [
    "s3_output = \"s3://ayomikun-test-bucket/output/\"\n",
    "\n",
    "# Execute the query and read results into a pandas DataFrame using the provided S3 output path\n",
    "df = wr.athena.read_sql_query(\n",
    "    sql=\"SELECT * FROM rearc_covid_19_testing_data_states_dailystates_daily\",\n",
    "    database=\"covid-19\",\n",
    "    s3_output=s3_output  # Use the provided S3 output path\n",
    ")\n",
    "\n",
    "# Display the first few rows of the DataFrame\n",
    "print(df.head())"
   ]
  },
  {
   "cell_type": "code",
   "execution_count": null,
   "id": "3b0dcc41",
   "metadata": {},
   "outputs": [],
   "source": []
  },
  {
   "cell_type": "code",
   "execution_count": 80,
   "id": "6e6aa185",
   "metadata": {},
   "outputs": [],
   "source": [
    "response = athena_client.start_query_execution(\n",
    "    QueryString=\"SELECT * FROM rearc_covid_19_testing_dataus_daily\",\n",
    "    QueryExecutionContext={\"Database\": SCHEMA_NAME},\n",
    "    ResultConfiguration={\n",
    "        \"OutputLocation\": S3_STAGING_DIR,\n",
    "        \"EncryptionConfiguration\": {\"EncryptionOption\": \"SSE_S3\"},\n",
    "    },\n",
    ")\n"
   ]
  },
  {
   "cell_type": "code",
   "execution_count": 81,
   "id": "a77857d5",
   "metadata": {},
   "outputs": [
    {
     "data": {
      "text/plain": [
       "{'QueryExecutionId': 'a188ce74-43c0-4c26-b926-d08abaf47bb7',\n",
       " 'ResponseMetadata': {'RequestId': '30b6fac1-ffc6-4149-9372-d81cab497e1f',\n",
       "  'HTTPStatusCode': 200,\n",
       "  'HTTPHeaders': {'date': 'Wed, 10 Apr 2024 11:42:40 GMT',\n",
       "   'content-type': 'application/x-amz-json-1.1',\n",
       "   'content-length': '59',\n",
       "   'connection': 'keep-alive',\n",
       "   'x-amzn-requestid': '30b6fac1-ffc6-4149-9372-d81cab497e1f'},\n",
       "  'RetryAttempts': 0}}"
      ]
     },
     "execution_count": 81,
     "metadata": {},
     "output_type": "execute_result"
    }
   ],
   "source": [
    "response"
   ]
  },
  {
   "cell_type": "code",
   "execution_count": 82,
   "id": "81aaf350",
   "metadata": {},
   "outputs": [],
   "source": [
    "rearc_covid_19_testing_dataus_daily = download_and_load_query_results(athena_client, response)"
   ]
  },
  {
   "cell_type": "code",
   "execution_count": 83,
   "id": "d6f1a3e9",
   "metadata": {},
   "outputs": [
    {
     "name": "stdout",
     "output_type": "stream",
     "text": [
      "       date  states  positive  negative  pending  hospitalizedcurrently  \\\n",
      "0  20210307      56  28755524  74579770    11808                  40212   \n",
      "1  20210306      56  28714259  74449356    11783                  41401   \n",
      "2  20210305      56  28654639  74307155    12213                  42541   \n",
      "3  20210304      56  28585852  74035238    12405                  44172   \n",
      "4  20210303      56  28520365  73857281    11778                  45462   \n",
      "\n",
      "   hospitalizedcumulative  inicucurrently  inicucumulative  \\\n",
      "0                  878613            8137            45475   \n",
      "1                  877887            8409            45453   \n",
      "2                  877384            8634            45373   \n",
      "3                  874603            8970            45293   \n",
      "4                  873073            9359            45214   \n",
      "\n",
      "   onventilatorcurrently  ...          lastmodified recovered  total  posneg  \\\n",
      "0                   2801  ...  2021-03-07T24:00:00Z                0       0   \n",
      "1                   2811  ...  2021-03-06T24:00:00Z                0       0   \n",
      "2                   2889  ...  2021-03-05T24:00:00Z                0       0   \n",
      "3                   2973  ...  2021-03-04T24:00:00Z                0       0   \n",
      "4                   3094  ...  2021-03-03T24:00:00Z                0       0   \n",
      "\n",
      "   deathincrease hospitalizedincrease negativeincrease  positiveincrease  \\\n",
      "0            839                  726           130414             41265   \n",
      "1           1674                  503           142201             59620   \n",
      "2           2221                 2781           271917             68787   \n",
      "3           1743                 1530           177957             65487   \n",
      "4           2449                 2172           267001             66836   \n",
      "\n",
      "   totaltestresultsincrease                                      hash  \n",
      "0                   1156241  8b26839690cd05c0cef69cb9ed85641a76b5e78e  \n",
      "1                   1409138  d0c0482ea549c9d5c04a7c86acb6fc6a8095a592  \n",
      "2                   1744417  a35ea4289cec4bb55c9f29ae04ec0fd5ac4e0222  \n",
      "3                   1590984  a19ad6379a653834cbda3093791ad2c3b9fab5ff  \n",
      "4                   1406795  9e1d2afda1b0ec243060d6f68a7134d011c0cb2a  \n",
      "\n",
      "[5 rows x 25 columns]\n"
     ]
    }
   ],
   "source": [
    "s3_output = \"s3://ayomikun-test-bucket/output/\"\n",
    "\n",
    "# Execute the query and read results into a pandas DataFrame using the provided S3 output path\n",
    "df = wr.athena.read_sql_query(\n",
    "    sql=\"SELECT * FROM rearc_covid_19_testing_dataus_daily\",\n",
    "    database=\"covid-19\",\n",
    "    s3_output=s3_output  # Use the provided S3 output path\n",
    ")\n",
    "\n",
    "# Display the first few rows of the DataFrame\n",
    "print(df.head())"
   ]
  },
  {
   "cell_type": "code",
   "execution_count": null,
   "id": "f2fdf149",
   "metadata": {},
   "outputs": [],
   "source": []
  },
  {
   "cell_type": "code",
   "execution_count": 85,
   "id": "dc2a9968",
   "metadata": {},
   "outputs": [],
   "source": [
    "response = athena_client.start_query_execution(\n",
    "    QueryString=\"SELECT * FROM rearc_covid_19_testing_dataus_total_latest\",\n",
    "    QueryExecutionContext={\"Database\": SCHEMA_NAME},\n",
    "    ResultConfiguration={\n",
    "        \"OutputLocation\": S3_STAGING_DIR,\n",
    "        \"EncryptionConfiguration\": {\"EncryptionOption\": \"SSE_S3\"},\n",
    "    },\n",
    ")\n"
   ]
  },
  {
   "cell_type": "code",
   "execution_count": 86,
   "id": "b299ca47",
   "metadata": {},
   "outputs": [
    {
     "data": {
      "text/plain": [
       "{'QueryExecutionId': '7f179a4f-cf46-45f5-8fad-ff11a2d42fa9',\n",
       " 'ResponseMetadata': {'RequestId': 'f2c01665-ff05-406c-93a9-246d5073b304',\n",
       "  'HTTPStatusCode': 200,\n",
       "  'HTTPHeaders': {'date': 'Wed, 10 Apr 2024 11:47:27 GMT',\n",
       "   'content-type': 'application/x-amz-json-1.1',\n",
       "   'content-length': '59',\n",
       "   'connection': 'keep-alive',\n",
       "   'x-amzn-requestid': 'f2c01665-ff05-406c-93a9-246d5073b304'},\n",
       "  'RetryAttempts': 0}}"
      ]
     },
     "execution_count": 86,
     "metadata": {},
     "output_type": "execute_result"
    }
   ],
   "source": [
    "response"
   ]
  },
  {
   "cell_type": "code",
   "execution_count": 87,
   "id": "364ac98e",
   "metadata": {},
   "outputs": [],
   "source": [
    "rearc_covid_19_testing_dataus_total_latest = download_and_load_query_results(athena_client, response)"
   ]
  },
  {
   "cell_type": "code",
   "execution_count": 88,
   "id": "fe347c34",
   "metadata": {},
   "outputs": [
    {
     "name": "stdout",
     "output_type": "stream",
     "text": [
      "   positive  negative  pending  hospitalizedcurrently  hospitalizedcumulative  \\\n",
      "0   1061101   5170081     2775                  53793                  111955   \n",
      "\n",
      "   inicucurrently  inicucumulative  onventilatorcurrently  \\\n",
      "0            9486             4192                   4712   \n",
      "\n",
      "   onventilatorcumulative  recovered  \\\n",
      "0                     373     153947   \n",
      "\n",
      "                                       hash              lastmodified  death  \\\n",
      "0  95064ba29ccbc20dbec397033dfe4b1f45137c99  2020-05-01T09:12:31.891Z  57266   \n",
      "\n",
      "   hospitalized    total  totaltestresults   posneg             notes  \n",
      "0        111955  6233957           6231182  6231182  \"NOTE: \"\"total\"\"  \n"
     ]
    }
   ],
   "source": [
    "s3_output = \"s3://ayomikun-test-bucket/output/\"\n",
    "\n",
    "# Execute the query and read results into a pandas DataFrame using the provided S3 output path\n",
    "df = wr.athena.read_sql_query(\n",
    "    sql=\"SELECT * FROM rearc_covid_19_testing_dataus_total_latest\",\n",
    "    database=\"covid-19\",\n",
    "    s3_output=s3_output  # Use the provided S3 output path\n",
    ")\n",
    "\n",
    "# Display the first few rows of the DataFrame\n",
    "print(df.head())"
   ]
  },
  {
   "cell_type": "code",
   "execution_count": null,
   "id": "9c3b7491",
   "metadata": {},
   "outputs": [],
   "source": []
  },
  {
   "cell_type": "code",
   "execution_count": 101,
   "id": "ac5a4553",
   "metadata": {},
   "outputs": [],
   "source": [
    "response = athena_client.start_query_execution(\n",
    "    QueryString=\"SELECT * FROM static_datastate_abv\",\n",
    "    QueryExecutionContext={\"Database\": SCHEMA_NAME},\n",
    "    ResultConfiguration={\n",
    "        \"OutputLocation\": S3_STAGING_DIR,\n",
    "        \"EncryptionConfiguration\": {\"EncryptionOption\": \"SSE_S3\"},\n",
    "    },\n",
    ")"
   ]
  },
  {
   "cell_type": "code",
   "execution_count": 102,
   "id": "857c4564",
   "metadata": {},
   "outputs": [
    {
     "data": {
      "text/plain": [
       "{'QueryExecutionId': '5cc67b9c-03d2-453b-89a5-8d57ef80d589',\n",
       " 'ResponseMetadata': {'RequestId': '60dad129-51df-4b5d-9ceb-80860ced33ca',\n",
       "  'HTTPStatusCode': 200,\n",
       "  'HTTPHeaders': {'date': 'Wed, 10 Apr 2024 12:00:16 GMT',\n",
       "   'content-type': 'application/x-amz-json-1.1',\n",
       "   'content-length': '59',\n",
       "   'connection': 'keep-alive',\n",
       "   'x-amzn-requestid': '60dad129-51df-4b5d-9ceb-80860ced33ca'},\n",
       "  'RetryAttempts': 0}}"
      ]
     },
     "execution_count": 102,
     "metadata": {},
     "output_type": "execute_result"
    }
   ],
   "source": [
    "response"
   ]
  },
  {
   "cell_type": "code",
   "execution_count": 103,
   "id": "70078e0b",
   "metadata": {},
   "outputs": [],
   "source": [
    "static_datastate_abv = download_and_load_query_results(athena_client, response)"
   ]
  },
  {
   "cell_type": "code",
   "execution_count": 104,
   "id": "6e1dc93b",
   "metadata": {},
   "outputs": [
    {
     "name": "stdout",
     "output_type": "stream",
     "text": [
      "       col0          col1\n",
      "0     State  Abbreviation\n",
      "1   Alabama            AL\n",
      "2    Alaska            AK\n",
      "3   Arizona            AZ\n",
      "4  Arkansas            AR\n"
     ]
    }
   ],
   "source": [
    "s3_output = \"s3://ayomikun-test-bucket/output/\"\n",
    "\n",
    "# Execute the query and read results into a pandas DataFrame using the provided S3 output path\n",
    "df = wr.athena.read_sql_query(\n",
    "    sql=\"SELECT * FROM static_datastate_abv\",\n",
    "    database=\"covid-19\",\n",
    "    s3_output=s3_output  # Use the provided S3 output path\n",
    ")\n",
    "\n",
    "# Display the first few rows of the DataFrame\n",
    "print(df.head())"
   ]
  },
  {
   "cell_type": "code",
   "execution_count": null,
   "id": "d30e9729",
   "metadata": {},
   "outputs": [],
   "source": []
  },
  {
   "cell_type": "code",
   "execution_count": null,
   "id": "fdbcd877",
   "metadata": {},
   "outputs": [],
   "source": []
  },
  {
   "cell_type": "code",
   "execution_count": null,
   "id": "0cacd5fe",
   "metadata": {},
   "outputs": [],
   "source": [
    "\n"
   ]
  },
  {
   "cell_type": "code",
   "execution_count": null,
   "id": "2cfb1223",
   "metadata": {},
   "outputs": [],
   "source": []
  },
  {
   "cell_type": "code",
   "execution_count": null,
   "id": "71d8dba9",
   "metadata": {},
   "outputs": [],
   "source": []
  },
  {
   "cell_type": "code",
   "execution_count": null,
   "id": "f77026f9",
   "metadata": {},
   "outputs": [],
   "source": []
  },
  {
   "cell_type": "code",
   "execution_count": null,
   "id": "ea74d6af",
   "metadata": {},
   "outputs": [],
   "source": []
  },
  {
   "cell_type": "code",
   "execution_count": null,
   "id": "cb2cc3c2",
   "metadata": {},
   "outputs": [],
   "source": []
  },
  {
   "cell_type": "code",
   "execution_count": null,
   "id": "06a8b630",
   "metadata": {},
   "outputs": [],
   "source": []
  },
  {
   "cell_type": "code",
   "execution_count": null,
   "id": "2c213a41",
   "metadata": {},
   "outputs": [],
   "source": []
  },
  {
   "cell_type": "code",
   "execution_count": null,
   "id": "e68facfd",
   "metadata": {},
   "outputs": [],
   "source": []
  },
  {
   "cell_type": "code",
   "execution_count": null,
   "id": "26bc2979",
   "metadata": {},
   "outputs": [],
   "source": []
  },
  {
   "cell_type": "code",
   "execution_count": null,
   "id": "2159af2a",
   "metadata": {},
   "outputs": [],
   "source": []
  },
  {
   "cell_type": "code",
   "execution_count": null,
   "id": "6e25d024",
   "metadata": {},
   "outputs": [],
   "source": []
  },
  {
   "cell_type": "code",
   "execution_count": null,
   "id": "7594c487",
   "metadata": {},
   "outputs": [],
   "source": []
  },
  {
   "cell_type": "code",
   "execution_count": null,
   "id": "d8ceb9b0",
   "metadata": {},
   "outputs": [],
   "source": []
  },
  {
   "cell_type": "code",
   "execution_count": null,
   "id": "463e44c9",
   "metadata": {},
   "outputs": [],
   "source": []
  }
 ],
 "metadata": {
  "kernelspec": {
   "display_name": "Python 3 (ipykernel)",
   "language": "python",
   "name": "python3"
  },
  "language_info": {
   "codemirror_mode": {
    "name": "ipython",
    "version": 3
   },
   "file_extension": ".py",
   "mimetype": "text/x-python",
   "name": "python",
   "nbconvert_exporter": "python",
   "pygments_lexer": "ipython3",
   "version": "3.10.9"
  }
 },
 "nbformat": 4,
 "nbformat_minor": 5
}
